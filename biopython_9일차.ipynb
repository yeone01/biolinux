{
  "nbformat": 4,
  "nbformat_minor": 0,
  "metadata": {
    "colab": {
      "provenance": [],
      "authorship_tag": "ABX9TyPIVlcoCFTNE8AwLAkpBqG5",
      "include_colab_link": true
    },
    "kernelspec": {
      "name": "python3",
      "display_name": "Python 3"
    },
    "language_info": {
      "name": "python"
    }
  },
  "cells": [
    {
      "cell_type": "markdown",
      "metadata": {
        "id": "view-in-github",
        "colab_type": "text"
      },
      "source": [
        "<a href=\"https://colab.research.google.com/github/yeone01/biolinux/blob/master/biopython_9%EC%9D%BC%EC%B0%A8.ipynb\" target=\"_parent\"><img src=\"https://colab.research.google.com/assets/colab-badge.svg\" alt=\"Open In Colab\"/></a>"
      ]
    },
    {
      "cell_type": "code",
      "source": [
        "exch  = {'USD' : 1203.82 , 'EUR' : 1365.73 , 'JPY': 11.22 , 'CNY' : 172.04}\n",
        "\n",
        "input_money = input('Money:')"
      ],
      "metadata": {
        "colab": {
          "base_uri": "https://localhost:8080/"
        },
        "id": "4HFFhe0d1L3M",
        "outputId": "e6b5d2ce-38ef-459b-cf6a-6e048a273580"
      },
      "execution_count": 2,
      "outputs": [
        {
          "name": "stdout",
          "output_type": "stream",
          "text": [
            "Money:10 USD, 5 EUR, 7 JPY, 9 CNY\n"
          ]
        }
      ]
    },
    {
      "cell_type": "code",
      "execution_count": 3,
      "metadata": {
        "colab": {
          "base_uri": "https://localhost:8080/"
        },
        "id": "jpvsx_0T0_x8",
        "outputId": "28dbacb8-159a-4013-d13f-d54f587b92a2"
      },
      "outputs": [
        {
          "output_type": "stream",
          "name": "stdout",
          "text": [
            "10\n",
            "USD\n",
            "1203.82\n",
            "\n",
            "12038.199999999999\n",
            "12038.199999999999 KRW, 6828.65 KRW, 78.54 KRW, 1548.36 KRW\n",
            "12038.2 KRW, 6828.65 KRW, 78.54 KRW, 1548.36 KRW\n",
            "12038.2 KRW, 6828.65 KRW, 78.54 KRW, 1548.36 KRW\n"
          ]
        }
      ],
      "source": [
        "\n",
        "\n",
        "list_money = input_money.split(', ')\n",
        "print(list_money[0].split()[0]) #10\n",
        "print(list_money[0].split()[1]) #USD\n",
        "print(exch[list_money[0].split()[1]]) #1203.83\n",
        "print()\n",
        "print(int(list_money[0].split()[0]) * exch[list_money[0].split()[1]]) # first part\n",
        "\n",
        "print(int(list_money[0].split()[0].split()[0]) * exch[list_money[0].split()[1]], 'KRW,',\n",
        "int(list_money[1].split()[0]) * exch[list_money[1].split()[1]], 'KRW,',\n",
        "int(list_money[2].split()[0]) * exch[list_money[2].split()[1]], 'KRW,',\n",
        "int(list_money[3].split()[0]) * exch[list_money[3].split()[1]], 'KRW')\n",
        "\n",
        "\n",
        "\n",
        "print(round(int(list_money[0].split()[0]) * exch[list_money[0].split()[1]], 2),'KRW,',\n",
        "int(list_money[1].split()[0]) * exch[list_money[1].split()[1]], 'KRW,',\n",
        "int(list_money[2].split()[0]) * exch[list_money[2].split()[1]], 'KRW,',\n",
        "int(list_money[3].split()[0]) * exch[list_money[3].split()[1]], 'KRW')\n",
        "\n",
        "print(round(int(list_money[0].split()[0]) * exch[list_money[0].split()[1]], 2),'KRW,',\n",
        "int(list_money[1].split()[0]) * exch[list_money[1].split()[1]], 'KRW,',\n",
        "int(list_money[2].split()[0]) * exch[list_money[2].split()[1]], 'KRW,',\n",
        "int(list_money[3].split()[0]) * exch[list_money[3].split()[1]], 'KRW')"
      ]
    },
    {
      "cell_type": "markdown",
      "source": [],
      "metadata": {
        "id": "R75kH9_y1NHl"
      }
    }
  ]
}